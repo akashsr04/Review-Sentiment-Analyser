{
 "cells": [
  {
   "cell_type": "code",
   "execution_count": 44,
   "id": "14491b6f-1776-4a7b-99cf-e5a5f756b1e6",
   "metadata": {},
   "outputs": [
    {
     "name": "stderr",
     "output_type": "stream",
     "text": [
      "[nltk_data] Downloading package punkt_tab to\n",
      "[nltk_data]     /home/ezhulord/nltk_data...\n",
      "[nltk_data]   Package punkt_tab is already up-to-date!\n",
      "[nltk_data] Downloading package stopwords to\n",
      "[nltk_data]     /home/ezhulord/nltk_data...\n",
      "[nltk_data]   Package stopwords is already up-to-date!\n"
     ]
    },
    {
     "data": {
      "text/plain": [
       "True"
      ]
     },
     "execution_count": 44,
     "metadata": {},
     "output_type": "execute_result"
    }
   ],
   "source": [
    "import pandas as pd\n",
    "import nltk\n",
    "nltk.download('punkt_tab')\n",
    "nltk.download('stopwords')"
   ]
  },
  {
   "cell_type": "markdown",
   "id": "12f2941c-6739-422b-bb0b-897977994b90",
   "metadata": {},
   "source": [
    "Dataset.csv - Dataset of IMBD Reviews"
   ]
  },
  {
   "cell_type": "code",
   "execution_count": 45,
   "id": "9330708e-708c-4c4c-9b5d-2b170857414e",
   "metadata": {},
   "outputs": [],
   "source": [
    "df=pd.read_csv('dataset.csv')"
   ]
  },
  {
   "cell_type": "code",
   "execution_count": 47,
   "id": "e2194b1e-18c0-4691-a03b-7058e2a97c55",
   "metadata": {},
   "outputs": [],
   "source": [
    "df['review']=df['review'].astype(str)"
   ]
  },
  {
   "cell_type": "code",
   "execution_count": null,
   "id": "15a5673f-8d61-41a1-9750-207943022945",
   "metadata": {
    "scrolled": true
   },
   "outputs": [],
   "source": [
    "df['review']=df['review'].str.lower()\n",
    "notneeded=['<','>','/']\n",
    "for nn in notneeded:\n",
    "    df['review']=df['review'].str.replace(nn,'')\n",
    "df.head()"
   ]
  },
  {
   "cell_type": "code",
   "execution_count": 49,
   "id": "54cf7ce2-afc7-421d-b565-d5f5c271f3b1",
   "metadata": {},
   "outputs": [],
   "source": [
    "df['tokens']=df['review'].apply(nltk.word_tokenize)"
   ]
  },
  {
   "cell_type": "code",
   "execution_count": 50,
   "id": "9ce57a28-3ccd-4205-a8af-87ff6dc3ac94",
   "metadata": {},
   "outputs": [],
   "source": [
    "stopwords=nltk.corpus.stopwords.words('english')\n",
    "df['tokens']=df['tokens'].apply(lambda x:[word for word in x if word not in stopwords])"
   ]
  },
  {
   "cell_type": "code",
   "execution_count": null,
   "id": "e4e484ec-8431-456c-b78e-01d31fd2ea24",
   "metadata": {
    "scrolled": true
   },
   "outputs": [],
   "source": [
    "df.head()"
   ]
  },
  {
   "cell_type": "code",
   "execution_count": 53,
   "id": "20e98a29-77d3-4594-bd42-238a4fd010f8",
   "metadata": {},
   "outputs": [],
   "source": [
    "x=df['review']\n",
    "y=df['sentiment']"
   ]
  },
  {
   "cell_type": "code",
   "execution_count": 54,
   "id": "743edde0-151a-4734-be45-ba43c6ea23e2",
   "metadata": {},
   "outputs": [],
   "source": [
    "from sklearn.model_selection import train_test_split as tts"
   ]
  },
  {
   "cell_type": "code",
   "execution_count": 55,
   "id": "c2354958-6f87-468b-8834-efde0a815763",
   "metadata": {},
   "outputs": [],
   "source": [
    "x_train , x_test , y_train , y_test = tts(x,y,test_size=0.2,random_state=0)"
   ]
  },
  {
   "cell_type": "code",
   "execution_count": 57,
   "id": "b597b09e-69ab-448d-9051-cac1148b42ea",
   "metadata": {},
   "outputs": [],
   "source": [
    "from sklearn.feature_extraction.text import TfidfVectorizer as tvec"
   ]
  },
  {
   "cell_type": "code",
   "execution_count": 58,
   "id": "2977f7b2-84d5-486a-8aa7-68ab0a2f5906",
   "metadata": {},
   "outputs": [],
   "source": [
    "vectorizer = tvec()"
   ]
  },
  {
   "cell_type": "code",
   "execution_count": 59,
   "id": "c65b8e62-da7e-47b2-a2ea-fbd205485545",
   "metadata": {},
   "outputs": [],
   "source": [
    "x_train_vec = vectorizer.fit_transform(x_train)\n",
    "y_train_vec = vectorizer.fit_transform(y_train)"
   ]
  },
  {
   "cell_type": "code",
   "execution_count": 60,
   "id": "789d5c2b-cd70-41a7-8cb7-72f17eaba13c",
   "metadata": {},
   "outputs": [],
   "source": [
    "from sklearn.svm import SVC "
   ]
  },
  {
   "cell_type": "code",
   "execution_count": null,
   "id": "da416059-f42a-4571-baaa-9982c80c9be8",
   "metadata": {},
   "outputs": [],
   "source": [
    "model = SVC()\n",
    "model.fit(x_train_vec,y_train)"
   ]
  },
  {
   "cell_type": "code",
   "execution_count": null,
   "id": "1735736b-af41-4b13-990b-fe6e18547e1c",
   "metadata": {},
   "outputs": [],
   "source": [
    "print(\"Enter review\")\n",
    "r=input()\n",
    "model.predict(r)"
   ]
  }
 ],
 "metadata": {
  "kernelspec": {
   "display_name": "Python 3 (ipykernel)",
   "language": "python",
   "name": "python3"
  },
  "language_info": {
   "codemirror_mode": {
    "name": "ipython",
    "version": 3
   },
   "file_extension": ".py",
   "mimetype": "text/x-python",
   "name": "python",
   "nbconvert_exporter": "python",
   "pygments_lexer": "ipython3",
   "version": "3.10.12"
  }
 },
 "nbformat": 4,
 "nbformat_minor": 5
}
